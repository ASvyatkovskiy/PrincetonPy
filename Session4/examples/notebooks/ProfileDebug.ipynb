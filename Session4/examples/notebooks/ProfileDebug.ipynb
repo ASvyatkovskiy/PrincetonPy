{
 "cells": [
  {
   "cell_type": "markdown",
   "metadata": {},
   "source": [
    "# CPU and memory profiling in Python\n",
    "\n",
    "Python includes a profiler called `cProfile`. It not only gives the total running time, but also times each function separately, and tells you how many times each function was called, making it easy to determine where you should make optimizations.\n",
    "\n",
    "You can call it from within your code, or from the interpreter. Let us look at an example of 2 simple functions:\n",
    "**foo()**: allocates lists a, b and then deletes b, and calls **bar()** which simply squares elements in range(10)."
   ]
  },
  {
   "cell_type": "code",
   "execution_count": 1,
   "metadata": {
    "collapsed": true
   },
   "outputs": [],
   "source": [
    "def bar():\n",
    "    map(lambda x: x*x, range(10))\n",
    "\n",
    "def foo():\n",
    "    a = [1] * (10 ** 6)\n",
    "    b = [2] * (2 * 10 ** 7)\n",
    "    del b\n",
    "    bar()\n",
    "    return a"
   ]
  },
  {
   "cell_type": "code",
   "execution_count": 2,
   "metadata": {
    "collapsed": false
   },
   "outputs": [
    {
     "name": "stdout",
     "output_type": "stream",
     "text": [
      "         16 function calls in 0.162 seconds\n",
      "\n",
      "   Ordered by: standard name\n",
      "\n",
      "   ncalls  tottime  percall  cumtime  percall filename:lineno(function)\n",
      "        1    0.000    0.000    0.000    0.000 <ipython-input-1-70452486e5ca>:1(bar)\n",
      "       10    0.000    0.000    0.000    0.000 <ipython-input-1-70452486e5ca>:2(<lambda>)\n",
      "        1    0.160    0.160    0.160    0.160 <ipython-input-1-70452486e5ca>:4(foo)\n",
      "        1    0.002    0.002    0.162    0.162 <string>:1(<module>)\n",
      "        1    0.000    0.000    0.000    0.000 {map}\n",
      "        1    0.000    0.000    0.000    0.000 {method 'disable' of '_lsprof.Profiler' objects}\n",
      "        1    0.000    0.000    0.000    0.000 {range}\n",
      "\n",
      "\n"
     ]
    }
   ],
   "source": [
    "import cProfile\n",
    "cProfile.run('foo()')"
   ]
  },
  {
   "cell_type": "markdown",
   "metadata": {},
   "source": [
    "Even more usefully, you can invoke the `cProfile` when running a script:\n",
    "\n",
    "```bash\n",
    "python -m cProfile myscript.py\n",
    "```"
   ]
  },
  {
   "cell_type": "markdown",
   "metadata": {},
   "source": [
    "## Memory profiler (performed in the command line or Python IDE)\n",
    "\n",
    "Python has a memory profiler as well. The profiler works in a line-by-line mode.\n",
    "To use it, first decorate the function you would like to profile with `@profile` and then run the script with specific arguments to the Python interpreter.\n",
    "\n",
    "\n",
    "### Install memory_profiler\n",
    "\n",
    "You can install memory profiler using pip:\n",
    "```bash\n",
    "pip install --user memory_profiler\n",
    "```\n",
    "\n",
    "Create a Python script `example.py` with following contents:\n",
    "\n",
    "\n",
    "```python\n",
    "@profile\n",
    "def foo():\n",
    "    a = [1] * (10 ** 6)\n",
    "    b = [2] * (2 * 10 ** 7)\n",
    "    del b\n",
    "    return a\n",
    "\n",
    "if __name__ == '__main__':\n",
    "    foo()\n",
    "```    \n",
    "\n",
    "Execute the code passing the option `-m memory_profiler` to the python interpreter to load the memory_profiler module and print to stdout the line-by-line analysis:\n",
    "\n",
    "```bash\n",
    "python -m memory_profiler example.py\n",
    "```"
   ]
  },
  {
   "cell_type": "code",
   "execution_count": null,
   "metadata": {
    "collapsed": true
   },
   "outputs": [],
   "source": []
  },
  {
   "cell_type": "markdown",
   "metadata": {},
   "source": [
    "# Debugging\n",
    "\n",
    "Debugging is a very important step of Python application development. The easiest and most common way to debug among beginners is by inserting multiple print statements inside the code.\n",
    "\n",
    "Luckily, Python has a debugger, which is available as a module called **pdb** (stands for “Python DeBugger”). This is a very simple and useful tool to learn if you are writing any Python programs.\n",
    "\n",
    "Let us look at a simple (though not very meaningful) code below:"
   ]
  },
  {
   "cell_type": "code",
   "execution_count": 1,
   "metadata": {
    "collapsed": false
   },
   "outputs": [
    {
     "name": "stdout",
     "output_type": "stream",
     "text": [
      "aaabbbccc\n"
     ]
    }
   ],
   "source": [
    "# epdb1.py -- experiment with the Python debugger, pdb\n",
    "a = \"aaa\"\n",
    "b = \"bbb\"\n",
    "c = \"ccc\"\n",
    "final = a + b + c\n",
    "print(final)"
   ]
  },
  {
   "cell_type": "markdown",
   "metadata": {},
   "source": [
    "Debugging with PDB is as simple as importing the corresponding module:"
   ]
  },
  {
   "cell_type": "code",
   "execution_count": 2,
   "metadata": {
    "collapsed": true
   },
   "outputs": [],
   "source": [
    "import pdb"
   ]
  },
  {
   "cell_type": "markdown",
   "metadata": {},
   "source": [
    "Now find a spot where you would like tracing to begin, and insert the following code:"
   ]
  },
  {
   "cell_type": "code",
   "execution_count": null,
   "metadata": {
    "collapsed": true
   },
   "outputs": [],
   "source": [
    "#pdb.set_trace()"
   ]
  },
  {
   "cell_type": "markdown",
   "metadata": {},
   "source": [
    "So now our program looks like (we will copy it to the python file and run it from the command line):"
   ]
  },
  {
   "cell_type": "code",
   "execution_count": null,
   "metadata": {
    "collapsed": true
   },
   "outputs": [],
   "source": [
    "# epdb1.py -- experiment with the Python debugger, pdb\n",
    "import pdb\n",
    "a = \"aaa\"\n",
    "pdb.set_trace()\n",
    "b = \"bbb\"\n",
    "c = \"ccc\"\n",
    "final = a + b + c\n",
    "print(final)"
   ]
  },
  {
   "cell_type": "markdown",
   "metadata": {},
   "source": [
    "## Exploring the program with \"n\" command\n",
    "\n",
    "Start run the debug run by typing:\n",
    "\n",
    "```python\n",
    "python3 epdb1.py\n",
    "```\n",
    "\n",
    "Execute the next statemen with “n” (next)\n",
    "\n",
    "At the Pdb prompt, press the lower-case letter “n” (for “next”) on your keyboard, and then press the ENTER key. This will tell pdb to execute the current statement. Keep doing this — pressing “n”, then ENTER.\n",
    "\n",
    "Eventually you will come to the end of your program, and it will terminate and return you to the normal command prompt.\n",
    "\n",
    "## Repeating the last debugging command with ENTER\n",
    "\n",
    "This time, do the same thing as you did before. Start your program running. At the (Pdb) prompt, press the lower-case letter “n” (for “next”) on your keyboard, and then press the ENTER key.\n",
    "\n",
    "But this time, after the first time that you press “n” and then ENTER, don’t do it any more. Instead, when you see the (Pdb) prompt, just press ENTER. You will notice that pdb continues, just as if you had pressed “n”. \n",
    "\n",
    "**If you press ENTER without entering anything, pdb will re-execute the last command that you gave it.**\n",
    "\n",
    "In this case, the command was “n”, so you could just keep stepping through the program by pressing ENTER.\n",
    "\n",
    "Notice that as you passed the last line (the line with the “print” statement), it was executed and you saw the output of the print statement (“aaabbbccc”) displayed on your screen.\n",
    "\n",
    "## Quitting it all with “q” (quit)\n",
    "\n",
    "The debugger can do all sorts of things, some of which you may find totally mystifying. So the most important thing to learn now — before you learn anything else — is how to quit debugging.\n",
    "\n",
    "It is easy. When you see the (Pdb) prompt, just press “q” (for “quit”) and the ENTER key. Pdb will quit and you will be back at your command prompt. Try it, and see how it works.\n",
    "\n",
    "## Printing the value of variables with “p” (print)\n",
    "\n",
    "The most useful thing you can do at the (Pdb) prompt is to print the value of a variable. Here’s how to do it.\n",
    "\n",
    "When you see the (Pdb) prompt, enter “p” (for “print”) followed by the name of the variable you want to print. And of course, you end by pressing the ENTER key.\n",
    "\n",
    "Note that you can print multiple variables, by separating their names with commas (just as in a regular Python “print” statement). For example, you can print the value of the variables a, b, and c this way.\n",
    "\n",
    "\n",
    "## Seeing where you are with “l” (list)\n",
    "\n",
    "As you are debugging, there is a lot of stuff being written to the screen, and it gets really hard to get a feeling for where you are in your program. That’s where the “l” (for “list”) command comes in. \n",
    "\n",
    "“l” shows you, on the screen, the general area of your program’s souce code that you are executing. By default, it lists 11 (eleven) lines of code. The line of code that you are about to execute (the “current line”) is right in the middle, and there is a little arrow “–>” that points to it.\n",
    "\n",
    "So a typical interaction with pdb might go like this\n",
    "\n",
    "The pdb.set_trace() statement is encountered, and you start tracing with the (Pdb) prompt\n",
    "You press “n” and then ENTER, to start stepping through your code.\n",
    "You just press ENTER to step again.\n",
    "You just press ENTER to step again.\n",
    "You just press ENTER to step again. etc. etc. etc.\n",
    "Eventually, you realize that you are a bit lost. You’re not exactly sure where you are in your program any more. So…\n",
    "You press “l” and then ENTER. This lists the area of your program that is currently being executed.\n",
    "You inspect the display, get your bearings, and are ready to start again. So….\n",
    "You press “n” and then ENTER, to start stepping through your code.\n",
    "You just press ENTER to step again.\n",
    "You just press ENTER to step again. etc. etc. etc.\n",
    "\n",
    "## Stepping into subroutines… with “s” (step into)\n",
    "\n",
    "Eventually, you will need to debug larger programs — programs that use subroutines. And sometimes, the problem that you’re trying to find will lie buried in a subroutine. Consider the following program.\n",
    "\n",
    "Let us consider a more involved program:"
   ]
  },
  {
   "cell_type": "code",
   "execution_count": 79,
   "metadata": {
    "collapsed": false
   },
   "outputs": [
    {
     "name": "stdout",
     "output_type": "stream",
     "text": [
      "--Return--\n",
      "> <ipython-input-79-508ded407db0>(10)<module>()->None\n",
      "-> pdb.set_trace()\n",
      "(Pdb) q\n"
     ]
    },
    {
     "ename": "BdbQuit",
     "evalue": "",
     "output_type": "error",
     "traceback": [
      "\u001b[0;31m---------------------------------------------------------------------------\u001b[0m",
      "\u001b[0;31mBdbQuit\u001b[0m                                   Traceback (most recent call last)",
      "\u001b[0;32m<ipython-input-79-508ded407db0>\u001b[0m in \u001b[0;36m<module>\u001b[0;34m()\u001b[0m\n\u001b[1;32m      8\u001b[0m \u001b[0;34m\u001b[0m\u001b[0m\n\u001b[1;32m      9\u001b[0m \u001b[0ma\u001b[0m \u001b[0;34m=\u001b[0m \u001b[0;34m\"aaa\"\u001b[0m\u001b[0;34m\u001b[0m\u001b[0m\n\u001b[0;32m---> 10\u001b[0;31m \u001b[0mpdb\u001b[0m\u001b[0;34m.\u001b[0m\u001b[0mset_trace\u001b[0m\u001b[0;34m(\u001b[0m\u001b[0;34m)\u001b[0m\u001b[0;34m\u001b[0m\u001b[0m\n\u001b[0m\u001b[1;32m     11\u001b[0m \u001b[0mb\u001b[0m \u001b[0;34m=\u001b[0m \u001b[0;34m\"bbb\"\u001b[0m\u001b[0;34m\u001b[0m\u001b[0m\n\u001b[1;32m     12\u001b[0m \u001b[0mc\u001b[0m \u001b[0;34m=\u001b[0m \u001b[0;34m\"ccc\"\u001b[0m\u001b[0;34m\u001b[0m\u001b[0m\n",
      "\u001b[0;32m/Library/Frameworks/Python.framework/Versions/3.5/lib/python3.5/bdb.py\u001b[0m in \u001b[0;36mtrace_dispatch\u001b[0;34m(self, frame, event, arg)\u001b[0m\n\u001b[1;32m     50\u001b[0m             \u001b[0;32mreturn\u001b[0m \u001b[0mself\u001b[0m\u001b[0;34m.\u001b[0m\u001b[0mdispatch_call\u001b[0m\u001b[0;34m(\u001b[0m\u001b[0mframe\u001b[0m\u001b[0;34m,\u001b[0m \u001b[0marg\u001b[0m\u001b[0;34m)\u001b[0m\u001b[0;34m\u001b[0m\u001b[0m\n\u001b[1;32m     51\u001b[0m         \u001b[0;32mif\u001b[0m \u001b[0mevent\u001b[0m \u001b[0;34m==\u001b[0m \u001b[0;34m'return'\u001b[0m\u001b[0;34m:\u001b[0m\u001b[0;34m\u001b[0m\u001b[0m\n\u001b[0;32m---> 52\u001b[0;31m             \u001b[0;32mreturn\u001b[0m \u001b[0mself\u001b[0m\u001b[0;34m.\u001b[0m\u001b[0mdispatch_return\u001b[0m\u001b[0;34m(\u001b[0m\u001b[0mframe\u001b[0m\u001b[0;34m,\u001b[0m \u001b[0marg\u001b[0m\u001b[0;34m)\u001b[0m\u001b[0;34m\u001b[0m\u001b[0m\n\u001b[0m\u001b[1;32m     53\u001b[0m         \u001b[0;32mif\u001b[0m \u001b[0mevent\u001b[0m \u001b[0;34m==\u001b[0m \u001b[0;34m'exception'\u001b[0m\u001b[0;34m:\u001b[0m\u001b[0;34m\u001b[0m\u001b[0m\n\u001b[1;32m     54\u001b[0m             \u001b[0;32mreturn\u001b[0m \u001b[0mself\u001b[0m\u001b[0;34m.\u001b[0m\u001b[0mdispatch_exception\u001b[0m\u001b[0;34m(\u001b[0m\u001b[0mframe\u001b[0m\u001b[0;34m,\u001b[0m \u001b[0marg\u001b[0m\u001b[0;34m)\u001b[0m\u001b[0;34m\u001b[0m\u001b[0m\n",
      "\u001b[0;32m/Library/Frameworks/Python.framework/Versions/3.5/lib/python3.5/bdb.py\u001b[0m in \u001b[0;36mdispatch_return\u001b[0;34m(self, frame, arg)\u001b[0m\n\u001b[1;32m     94\u001b[0m             \u001b[0;32mfinally\u001b[0m\u001b[0;34m:\u001b[0m\u001b[0;34m\u001b[0m\u001b[0m\n\u001b[1;32m     95\u001b[0m                 \u001b[0mself\u001b[0m\u001b[0;34m.\u001b[0m\u001b[0mframe_returning\u001b[0m \u001b[0;34m=\u001b[0m \u001b[0;32mNone\u001b[0m\u001b[0;34m\u001b[0m\u001b[0m\n\u001b[0;32m---> 96\u001b[0;31m             \u001b[0;32mif\u001b[0m \u001b[0mself\u001b[0m\u001b[0;34m.\u001b[0m\u001b[0mquitting\u001b[0m\u001b[0;34m:\u001b[0m \u001b[0;32mraise\u001b[0m \u001b[0mBdbQuit\u001b[0m\u001b[0;34m\u001b[0m\u001b[0m\n\u001b[0m\u001b[1;32m     97\u001b[0m             \u001b[0;31m# The user issued a 'next' or 'until' command.\u001b[0m\u001b[0;34m\u001b[0m\u001b[0;34m\u001b[0m\u001b[0m\n\u001b[1;32m     98\u001b[0m             \u001b[0;32mif\u001b[0m \u001b[0mself\u001b[0m\u001b[0;34m.\u001b[0m\u001b[0mstopframe\u001b[0m \u001b[0;32mis\u001b[0m \u001b[0mframe\u001b[0m \u001b[0;32mand\u001b[0m \u001b[0mself\u001b[0m\u001b[0;34m.\u001b[0m\u001b[0mstoplineno\u001b[0m \u001b[0;34m!=\u001b[0m \u001b[0;34m-\u001b[0m\u001b[0;36m1\u001b[0m\u001b[0;34m:\u001b[0m\u001b[0;34m\u001b[0m\u001b[0m\n",
      "\u001b[0;31mBdbQuit\u001b[0m: "
     ]
    }
   ],
   "source": [
    "# epdb2.py -- experiment with the Python debugger, pdb\n",
    "import pdb\n",
    "\n",
    "def combine(s1,s2):      # define subroutine combine, which...\n",
    "    s3 = s1 + s2 + s1    # sandwiches s2 between copies of s1, ...\n",
    "    s3 = '\"' + s3 +'\"'   # encloses it in double quotes,...\n",
    "    return s3            # and returns it.\n",
    "\n",
    "a = \"aaa\"\n",
    "pdb.set_trace()\n",
    "b = \"bbb\"\n",
    "c = \"ccc\"\n",
    "final = combine(a,b)\n",
    "print(final)"
   ]
  },
  {
   "cell_type": "markdown",
   "metadata": {},
   "source": [
    "Unlike \"n\" command which steps through your program line by line starting at the line where you have inserted the *set_trace()* statement, command \"s\" will step into functions and subroutines. Namely, if you press \"n\" on:\n",
    "```python\n",
    "final = combine(a,b)\n",
    "```\n",
    "\n",
    "it will just proceed to:\n",
    "\n",
    "```python\n",
    "print(final)\n",
    "```\n",
    "\n",
    "while \"s\" will step into the combine() function.\n",
    "\n",
    "## Continuing to the end of the current subroutine with “r” (return)\n",
    "\n",
    "When you use “s” to step into subroutines, you will often find yourself trapped in a subroutine. You have examined the code that you’re interested in, but now you have to step through a lot of uninteresting code in the subroutine.\n",
    "\n",
    "In this situation, what you’d like to be able to do is just to skip ahead to the end of the subroutine. That is, you want to do something like the “c” (“continue”) command does, but you want just to continue to the end of the subroutine, and then resume your stepping through the code.\n",
    "\n",
    "You can do it. The command to do it is “r” (for “return” or, better, “continue until return”). If you are in a subroutine and you enter the “r” command at the (Pdb) prompt, pdb will continue executing until the end of the subroutine. At that point — the point when it is ready to return to the calling routine — it will stop and show the (Pdb) prompt again, and you can resume stepping through your code."
   ]
  },
  {
   "cell_type": "markdown",
   "metadata": {
    "collapsed": true
   },
   "source": [
    "## Memory profiler and pdb\n",
    "\n",
    "It is possible to set breakpoints depending on the amount of memory used. That is, you can specify a threshold and as soon as the program uses more memory than what is specified in the threshold it will stop execution and run into the pdb debugger. To use it, you will have to decorate the function as done in the previous section with @profile and then run your script with the option `-m memory_profiler --pdb-mmem=X`, where X is a number representing the memory threshold in MB. For example:\n",
    "\n",
    "```bash\n",
    "python -m memory_profiler --pdb-mmem=100 example.py\n",
    "```"
   ]
  },
  {
   "cell_type": "code",
   "execution_count": null,
   "metadata": {
    "collapsed": true
   },
   "outputs": [],
   "source": []
  }
 ],
 "metadata": {
  "anaconda-cloud": {},
  "kernelspec": {
   "display_name": "Python [conda env:PythonWorkshop]",
   "language": "python",
   "name": "conda-env-PythonWorkshop-py"
  },
  "language_info": {
   "codemirror_mode": {
    "name": "ipython",
    "version": 2
   },
   "file_extension": ".py",
   "mimetype": "text/x-python",
   "name": "python",
   "nbconvert_exporter": "python",
   "pygments_lexer": "ipython2",
   "version": "2.7.12"
  }
 },
 "nbformat": 4,
 "nbformat_minor": 0
}
